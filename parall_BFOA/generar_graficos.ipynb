{
 "cells": [
  {
   "cell_type": "code",
   "execution_count": null,
   "metadata": {},
   "outputs": [],
   "source": [
    "import pandas as pd\n",
    "import matplotlib.pyplot as plt"
   ]
  },
  {
   "cell_type": "code",
   "execution_count": null,
   "metadata": {},
   "outputs": [],
   "source": [
    "# Cargar los datos resultados_corrida_YYYYMMDD_HHMMSS\n",
    "df = pd.read_csv(\"resultados_corridas/resultados_corrida_20250323_184153.csv\")"
   ]
  },
  {
   "cell_type": "code",
   "execution_count": null,
   "metadata": {},
   "outputs": [],
   "source": [
    "# Gráfico de Fitness vs Iteración\n",
    "plt.figure(figsize=(10, 6))\n",
    "plt.plot(df[\"Iteración\"], df[\"Fitness\"], marker=\"o\")\n",
    "plt.title(\"Fitness vs Iteración\")\n",
    "plt.xlabel(\"Iteración\")\n",
    "plt.ylabel(\"Fitness\")\n",
    "plt.grid()\n",
    "plt.show()"
   ]
  },
  {
   "cell_type": "code",
   "execution_count": null,
   "metadata": {},
   "outputs": [],
   "source": [
    "# Gráfico de Tiempo de ejecución vs Iteración\n",
    "plt.figure(figsize=(10, 6))\n",
    "plt.plot(df[\"Iteración\"], df[\"Tiempo\"], marker=\"o\", color=\"red\")\n",
    "plt.title(\"Tiempo de ejecución vs Iteración\")\n",
    "plt.xlabel(\"Iteración\")\n",
    "plt.ylabel(\"Tiempo (segundos)\")\n",
    "plt.grid()\n",
    "plt.show()"
   ]
  },
  {
   "cell_type": "code",
   "execution_count": null,
   "metadata": {},
   "outputs": [],
   "source": [
    "# Gráfico de Interacción y BLOSUM vs Iteración\n",
    "plt.figure(figsize=(10, 6))\n",
    "plt.plot(df[\"Iteración\"], df[\"Interacción\"], marker=\"o\", label=\"Interacción\")\n",
    "plt.plot(df[\"Iteración\"], df[\"BLOSUM\"], marker=\"o\", label=\"BLOSUM\")\n",
    "plt.title(\"Interacción y BLOSUM vs Iteración\")\n",
    "plt.xlabel(\"Iteración\")\n",
    "plt.ylabel(\"Valor\")\n",
    "plt.legend()\n",
    "plt.grid()\n",
    "plt.show()"
   ]
  },
  {
   "cell_type": "code",
   "execution_count": null,
   "metadata": {},
   "outputs": [],
   "source": [
    "# Resumen estadístico\n",
    "resumen = df.groupby(\"Iteración\").agg({\n",
    "    \"Fitness\": [\"mean\", \"std\"],\n",
    "    \"Tiempo\": [\"mean\", \"std\"],\n",
    "    \"Interacción\": [\"mean\", \"std\"],\n",
    "    \"BLOSUM\": [\"mean\", \"std\"]\n",
    "})\n",
    "print(resumen)"
   ]
  }
 ],
 "metadata": {
  "kernelspec": {
   "display_name": "Python 3",
   "language": "python",
   "name": "python3"
  },
  "language_info": {
   "codemirror_mode": {
    "name": "ipython",
    "version": 3
   },
   "file_extension": ".py",
   "mimetype": "text/x-python",
   "name": "python",
   "nbconvert_exporter": "python",
   "pygments_lexer": "ipython3",
   "version": "3.12.1"
  }
 },
 "nbformat": 4,
 "nbformat_minor": 2
}
